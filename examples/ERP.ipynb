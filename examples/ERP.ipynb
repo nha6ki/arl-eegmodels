{
 "cells": [
  {
   "cell_type": "markdown",
   "id": "eba89939-b1e8-4b69-86e1-9600a8e6351a",
   "metadata": {},
   "source": [
    " Sample script using EEGNet to classify Event-Related Potential (ERP) EEG data\n",
    " from a four-class classification task, using the sample dataset provided in\n",
    " the MNE [1, 2] package:\n",
    "     https://martinos.org/mne/stable/manual/sample_dataset.html#ch-sample-data\n",
    "   \n",
    " The four classes used from this dataset are:  \n",
    "     LA: Left-ear auditory stimulation  \n",
    "     RA: Right-ear auditory stimulation  \n",
    "     LV: Left visual field stimulation  \n",
    "     RV: Right visual field stimulation  \n",
    "    \n",
    "\n",
    " The code to process, filter and epoch the data are originally from Alexandre\n",
    " Barachant's PyRiemann [3] package, released under the BSD 3-clause. A copy of \n",
    " the BSD 3-clause license has been provided together with this software to \n",
    " comply with software licensing requirements. \n",
    " \n",
    " When you first run this script, MNE will download the dataset and prompt you\n",
    " to confirm the download location (defaults to ~/mne_data). Follow the prompts\n",
    " to continue. The dataset size is approx. 1.5GB download. \n",
    " \n",
    " For comparative purposes you can also compare EEGNet performance to using \n",
    " Riemannian geometric approaches with xDAWN spatial filtering [4-8] using \n",
    " PyRiemann (code provided below).\n",
    "\n",
    " [1] A. Gramfort, M. Luessi, E. Larson, D. Engemann, D. Strohmeier, C. Brodbeck,\n",
    "     L. Parkkonen, M. Hämäläinen, MNE software for processing MEG and EEG data, \n",
    "     NeuroImage, Volume 86, 1 February 2014, Pages 446-460, ISSN 1053-8119.\n",
    "\n",
    " [2] A. Gramfort, M. Luessi, E. Larson, D. Engemann, D. Strohmeier, C. Brodbeck, \n",
    "     R. Goj, M. Jas, T. Brooks, L. Parkkonen, M. Hämäläinen, MEG and EEG data \n",
    "     analysis with MNE-Python, Frontiers in Neuroscience, Volume 7, 2013.\n",
    "\n",
    " [3] https://github.com/alexandrebarachant/pyRiemann. \n",
    "\n",
    " [4] A. Barachant, M. Congedo ,\"A Plug&Play P300 BCI Using Information Geometry\"\n",
    "     arXiv:1409.0107. link\n",
    "\n",
    " [5] M. Congedo, A. Barachant, A. Andreev ,\"A New generation of Brain-Computer \n",
    "     Interface Based on Riemannian Geometry\", arXiv: 1310.8115.\n",
    "\n",
    " [6] A. Barachant and S. Bonnet, \"Channel selection procedure using riemannian \n",
    "     distance for BCI applications,\" in 2011 5th International IEEE/EMBS \n",
    "     Conference on Neural Engineering (NER), 2011, 348-351.\n",
    "\n",
    " [7] A. Barachant, S. Bonnet, M. Congedo and C. Jutten, “Multiclass \n",
    "     Brain-Computer Interface Classification by Riemannian Geometry,” in IEEE \n",
    "     Transactions on Biomedical Engineering, vol. 59, no. 4, p. 920-928, 2012.\n",
    "\n",
    " [8] A. Barachant, S. Bonnet, M. Congedo and C. Jutten, “Classification of \n",
    "     covariance matrices using a Riemannian-based kernel for BCI applications“, \n",
    "     in NeuroComputing, vol. 112, p. 172-178, 2013.\n",
    "\n",
    "\n",
    " Portions of this project are works of the United States Government and are not\n",
    " subject to domestic copyright protection under 17 USC Sec. 105.  Those \n",
    " portions are released world-wide under the terms of the Creative Commons Zero \n",
    " 1.0 (CC0) license.  \n",
    " \n",
    " Other portions of this project are subject to domestic copyright protection \n",
    " under 17 USC Sec. 105.  Those portions are licensed under the Apache 2.0 \n",
    " license.  The complete text of the license governing this material is in \n",
    " the file labeled LICENSE.TXT that is a part of this project's official \n",
    " distribution. "
   ]
  },
  {
   "cell_type": "code",
   "execution_count": 1,
   "id": "2dec48ff-42ed-406e-aba5-a8ae40b485c3",
   "metadata": {},
   "outputs": [],
   "source": [
    "import sys\n",
    "sys.path.append('../../arl-eegmodels/')"
   ]
  },
  {
   "cell_type": "code",
   "execution_count": null,
   "id": "f53a7d80-37f7-47b8-809e-422faf97ebe8",
   "metadata": {
    "tags": []
   },
   "outputs": [],
   "source": [
    "import numpy as np\n",
    "\n",
    "# mne imports\n",
    "import mne\n",
    "from mne import io\n",
    "from mne.datasets import sample\n",
    "\n",
    "# EEGNet-specific imports\n",
    "from EEGModels import EEGNet\n",
    "from tensorflow.keras import utils as np_utils\n",
    "from tensorflow.keras.callbacks import ModelCheckpoint\n",
    "from tensorflow.keras import backend as K\n",
    "\n",
    "# PyRiemann imports\n",
    "from pyriemann.estimation import XdawnCovariances\n",
    "from pyriemann.tangentspace import TangentSpace\n",
    "from pyriemann.utils.viz import plot_confusion_matrix\n",
    "from sklearn.pipeline import make_pipeline\n",
    "from sklearn.linear_model import LogisticRegression\n",
    "\n",
    "# tools for plotting confusion matrices\n",
    "from matplotlib import pyplot as plt"
   ]
  },
  {
   "cell_type": "code",
   "execution_count": 3,
   "id": "58ad01e3-d8d1-407d-987b-20e2f456db49",
   "metadata": {},
   "outputs": [],
   "source": [
    "# while the default tensorflow ordering is 'channels_last' we set it here\n",
    "# to be explicit in case if the user has changed the default ordering\n",
    "K.set_image_data_format('channels_last')"
   ]
  },
  {
   "cell_type": "code",
   "execution_count": null,
   "id": "a28b1559-ec99-476d-bcb4-291443c92f23",
   "metadata": {
    "tags": []
   },
   "outputs": [],
   "source": [
    "##################### Process, filter and epoch the data ######################\n",
    "data_path = sample.data_path()\n",
    "\n",
    "# Set parameters and read data\n",
    "raw_fname = data_path + '/MEG/sample/sample_audvis_filt-0-40_raw.fif'\n",
    "event_fname = data_path + '/MEG/sample/sample_audvis_filt-0-40_raw-eve.fif'\n",
    "tmin, tmax = -0., 1\n",
    "event_id = dict(aud_l=1, aud_r=2, vis_l=3, vis_r=4)\n",
    "\n",
    "# Setup for reading the raw data\n",
    "raw = io.Raw(raw_fname, preload=True, verbose=False)\n",
    "raw.filter(2, None, method='iir')  # replace baselining with high-pass\n",
    "events = mne.read_events(event_fname)\n",
    "\n",
    "raw.info['bads'] = ['MEG 2443']  # set bad channels\n",
    "picks = mne.pick_types(raw.info, meg=False, eeg=True, stim=False, eog=False,\n",
    "                       exclude='bads')\n",
    "\n",
    "# Read epochs\n",
    "epochs = mne.Epochs(raw, events, event_id, tmin, tmax, proj=False,\n",
    "                    picks=picks, baseline=None, preload=True, verbose=False)\n",
    "labels = epochs.events[:, -1]\n",
    "\n",
    "# extract raw data. scale by 1000 due to scaling sensitivity in deep learning\n",
    "X = epochs.get_data()*1000 # format is in (trials, channels, samples)\n",
    "y = labels\n",
    "\n",
    "kernels, chans, samples = 1, 60, 151\n",
    "\n",
    "# take 50/25/25 percent of the data to train/validate/test\n",
    "X_train      = X[0:144,]\n",
    "Y_train      = y[0:144]\n",
    "X_validate   = X[144:216,]\n",
    "Y_validate   = y[144:216]\n",
    "X_test       = X[216:,]\n",
    "Y_test       = y[216:]"
   ]
  },
  {
   "cell_type": "code",
   "execution_count": 5,
   "id": "59b3c84b-5dbf-4d94-be19-88f2399f8135",
   "metadata": {},
   "outputs": [
    {
     "name": "stdout",
     "output_type": "stream",
     "text": [
      "X_train shape: (144, 60, 151, 1)\n",
      "144 train samples\n",
      "72 test samples\n"
     ]
    }
   ],
   "source": [
    "############################# EEGNet portion ##################################\n",
    "\n",
    "# convert labels to one-hot encodings.\n",
    "Y_train      = np_utils.to_categorical(Y_train-1)\n",
    "Y_validate   = np_utils.to_categorical(Y_validate-1)\n",
    "Y_test       = np_utils.to_categorical(Y_test-1)\n",
    "\n",
    "# convert data to NHWC (trials, channels, samples, kernels) format. Data \n",
    "# contains 60 channels and 151 time-points. Set the number of kernels to 1.\n",
    "X_train      = X_train.reshape(X_train.shape[0], chans, samples, kernels)\n",
    "X_validate   = X_validate.reshape(X_validate.shape[0], chans, samples, kernels)\n",
    "X_test       = X_test.reshape(X_test.shape[0], chans, samples, kernels)\n",
    "   \n",
    "print('X_train shape:', X_train.shape)\n",
    "print(X_train.shape[0], 'train samples')\n",
    "print(X_test.shape[0], 'test samples')\n",
    "\n",
    "# configure the EEGNet-8,2,16 model with kernel length of 32 samples (other \n",
    "# model configurations may do better, but this is a good starting point)\n",
    "model = EEGNet(nb_classes = 4, Chans = chans, Samples = samples, \n",
    "               dropoutRate = 0.5, kernLength = 32, F1 = 8, D = 2, F2 = 16, \n",
    "               dropoutType = 'Dropout')\n",
    "\n",
    "# compile the model and set the optimizers\n",
    "model.compile(loss='categorical_crossentropy', optimizer='adam', \n",
    "              metrics = ['accuracy'])\n",
    "\n",
    "# count number of parameters in the model\n",
    "numParams    = model.count_params()    \n",
    "\n",
    "# set a valid path for your system to record model checkpoints\n",
    "checkpointer = ModelCheckpoint(filepath='/tmp/checkpoint.h5', verbose=1,\n",
    "                               save_best_only=True)"
   ]
  },
  {
   "cell_type": "code",
   "execution_count": 6,
   "id": "1b064be7-5e39-404c-80ec-4e2b3c5226ae",
   "metadata": {},
   "outputs": [],
   "source": [
    "###############################################################################\n",
    "# if the classification task was imbalanced (significantly more trials in one\n",
    "# class versus the others) you can assign a weight to each class during \n",
    "# optimization to balance it out. This data is approximately balanced so we \n",
    "# don't need to do this, but is shown here for illustration/completeness. \n",
    "###############################################################################\n",
    "\n",
    "# the syntax is {class_1:weight_1, class_2:weight_2,...}. Here just setting\n",
    "# the weights all to be 1\n",
    "class_weights = {0:1, 1:1, 2:1, 3:1}"
   ]
  },
  {
   "cell_type": "code",
   "execution_count": 7,
   "id": "f046bea1-e00f-46ab-9311-a47f5137ddb0",
   "metadata": {},
   "outputs": [
    {
     "name": "stdout",
     "output_type": "stream",
     "text": [
      "Epoch 1/10\n",
      "\n",
      "Epoch 00001: val_loss improved from inf to 1.38617, saving model to /tmp/checkpoint.h5\n",
      "9/9 - 0s - loss: 1.3903 - accuracy: 0.3125 - val_loss: 1.3862 - val_accuracy: 0.2639\n",
      "Epoch 2/10\n",
      "\n",
      "Epoch 00002: val_loss improved from 1.38617 to 1.38617, saving model to /tmp/checkpoint.h5\n",
      "9/9 - 0s - loss: 1.3823 - accuracy: 0.3333 - val_loss: 1.3862 - val_accuracy: 0.2639\n",
      "Epoch 3/10\n",
      "\n",
      "Epoch 00003: val_loss improved from 1.38617 to 1.38613, saving model to /tmp/checkpoint.h5\n",
      "9/9 - 0s - loss: 1.3563 - accuracy: 0.3264 - val_loss: 1.3861 - val_accuracy: 0.2639\n",
      "Epoch 4/10\n",
      "\n",
      "Epoch 00004: val_loss improved from 1.38613 to 1.38613, saving model to /tmp/checkpoint.h5\n",
      "9/9 - 0s - loss: 1.3699 - accuracy: 0.2917 - val_loss: 1.3861 - val_accuracy: 0.2639\n",
      "Epoch 5/10\n",
      "\n",
      "Epoch 00005: val_loss improved from 1.38613 to 1.38611, saving model to /tmp/checkpoint.h5\n",
      "9/9 - 0s - loss: 1.3426 - accuracy: 0.4306 - val_loss: 1.3861 - val_accuracy: 0.2500\n",
      "Epoch 6/10\n",
      "\n",
      "Epoch 00006: val_loss improved from 1.38611 to 1.38608, saving model to /tmp/checkpoint.h5\n",
      "9/9 - 0s - loss: 1.3294 - accuracy: 0.4236 - val_loss: 1.3861 - val_accuracy: 0.2500\n",
      "Epoch 7/10\n",
      "\n",
      "Epoch 00007: val_loss improved from 1.38608 to 1.38601, saving model to /tmp/checkpoint.h5\n",
      "9/9 - 0s - loss: 1.3269 - accuracy: 0.4306 - val_loss: 1.3860 - val_accuracy: 0.2500\n",
      "Epoch 8/10\n",
      "\n",
      "Epoch 00008: val_loss improved from 1.38601 to 1.38592, saving model to /tmp/checkpoint.h5\n",
      "9/9 - 0s - loss: 1.3047 - accuracy: 0.3889 - val_loss: 1.3859 - val_accuracy: 0.2778\n",
      "Epoch 9/10\n",
      "\n",
      "Epoch 00009: val_loss improved from 1.38592 to 1.38583, saving model to /tmp/checkpoint.h5\n",
      "9/9 - 0s - loss: 1.2713 - accuracy: 0.4861 - val_loss: 1.3858 - val_accuracy: 0.3472\n",
      "Epoch 10/10\n",
      "\n",
      "Epoch 00010: val_loss improved from 1.38583 to 1.38568, saving model to /tmp/checkpoint.h5\n",
      "9/9 - 0s - loss: 1.2128 - accuracy: 0.4722 - val_loss: 1.3857 - val_accuracy: 0.4028\n"
     ]
    }
   ],
   "source": [
    "################################################################################\n",
    "# fit the model. Due to very small sample sizes this can get\n",
    "# pretty noisy run-to-run, but most runs should be comparable to xDAWN + \n",
    "# Riemannian geometry classification (below)\n",
    "################################################################################\n",
    "fittedModel = model.fit(X_train, Y_train, batch_size = 16, epochs = 10,#300, \n",
    "                        verbose = 2, validation_data=(X_validate, Y_validate),\n",
    "                        callbacks=[checkpointer], class_weight = class_weights)\n",
    "\n",
    "# load optimal weights\n",
    "#model.load_weights('/tmp/checkpoint.h5')"
   ]
  },
  {
   "cell_type": "code",
   "execution_count": 8,
   "id": "e998abf8-5097-431c-a29e-38e3f9415e5c",
   "metadata": {},
   "outputs": [],
   "source": [
    "###############################################################################\n",
    "# can alternatively used the weights provided in the repo. If so it should get\n",
    "# you 93% accuracy. Change the WEIGHTS_PATH variable to wherever it is on your\n",
    "# system.\n",
    "###############################################################################\n",
    "\n",
    "# WEIGHTS_PATH = /path/to/EEGNet-8-2-weights.h5 \n",
    "# model.load_weights(WEIGHTS_PATH)"
   ]
  },
  {
   "cell_type": "code",
   "execution_count": 9,
   "id": "0488f9df-1b20-4845-a8ea-011c1dda650b",
   "metadata": {},
   "outputs": [
    {
     "name": "stdout",
     "output_type": "stream",
     "text": [
      "Classification accuracy: 0.416667 \n"
     ]
    }
   ],
   "source": [
    "###############################################################################\n",
    "# make prediction on test set.\n",
    "###############################################################################\n",
    "\n",
    "probs       = model.predict(X_test)\n",
    "preds       = probs.argmax(axis = -1)  \n",
    "acc         = np.mean(preds == Y_test.argmax(axis=-1))\n",
    "print(\"Classification accuracy: %f \" % (acc))"
   ]
  },
  {
   "cell_type": "code",
   "execution_count": 10,
   "id": "6b5481b3-5035-4556-9012-3b0716716cfb",
   "metadata": {},
   "outputs": [
    {
     "name": "stdout",
     "output_type": "stream",
     "text": [
      "Classification accuracy: 0.930556 \n"
     ]
    },
    {
     "data": {
      "text/plain": [
       "<AxesSubplot:title={'center':'xDAWN + RG'}, xlabel='Predicted label', ylabel='True label'>"
      ]
     },
     "execution_count": 10,
     "metadata": {},
     "output_type": "execute_result"
    },
    {
     "data": {
      "image/png": "[encoded data removed]",
      "text/plain": [
       "<Figure size 432x288 with 2 Axes>"
      ]
     },
     "metadata": {
      "needs_background": "light"
     },
     "output_type": "display_data"
    },
    {
     "data": {
      "image/png": "[encoded data removed]",
      "text/plain": [
       "<Figure size 432x288 with 2 Axes>"
      ]
     },
     "metadata": {
      "needs_background": "light"
     },
     "output_type": "display_data"
    }
   ],
   "source": [
    "############################# PyRiemann Portion ##############################\n",
    "\n",
    "# code is taken from PyRiemann's ERP sample script, which is decoding in \n",
    "# the tangent space with a logistic regression\n",
    "\n",
    "n_components = 2  # pick some components\n",
    "\n",
    "# set up sklearn pipeline\n",
    "clf = make_pipeline(XdawnCovariances(n_components),\n",
    "                    TangentSpace(metric='riemann'),\n",
    "                    LogisticRegression())\n",
    "\n",
    "preds_rg     = np.zeros(len(Y_test))\n",
    "\n",
    "# reshape back to (trials, channels, samples)\n",
    "X_train      = X_train.reshape(X_train.shape[0], chans, samples)\n",
    "X_test       = X_test.reshape(X_test.shape[0], chans, samples)\n",
    "\n",
    "# train a classifier with xDAWN spatial filtering + Riemannian Geometry (RG)\n",
    "# labels need to be back in single-column format\n",
    "clf.fit(X_train, Y_train.argmax(axis = -1))\n",
    "preds_rg     = clf.predict(X_test)\n",
    "\n",
    "# Printing the results\n",
    "acc2         = np.mean(preds_rg == Y_test.argmax(axis = -1))\n",
    "print(\"Classification accuracy: %f \" % (acc2))\n",
    "\n",
    "# plot the confusion matrices for both classifiers\n",
    "names        = ['audio left', 'audio right', 'vis left', 'vis right']\n",
    "plt.figure(0)\n",
    "plot_confusion_matrix(preds, Y_test.argmax(axis = -1), names, title = 'EEGNet-8,2')\n",
    "\n",
    "plt.figure(1)\n",
    "plot_confusion_matrix(preds_rg, Y_test.argmax(axis = -1), names, title = 'xDAWN + RG')"
   ]
  }
 ],
 "metadata": {
  "kernelspec": {
   "display_name": "Python 3",
   "language": "python",
   "name": "python3"
  },
  "language_info": {
   "codemirror_mode": {
    "name": "ipython",
    "version": 3
   },
   "file_extension": ".py",
   "mimetype": "text/x-python",
   "name": "python",
   "nbconvert_exporter": "python",
   "pygments_lexer": "ipython3",
   "version": "3.8.10"
  }
 },
 "nbformat": 4,
 "nbformat_minor": 5
}
